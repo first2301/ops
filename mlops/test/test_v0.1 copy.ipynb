{
 "cells": [
  {
   "cell_type": "markdown",
   "id": "3f1da2da",
   "metadata": {},
   "source": [
    "* https://docs.pola.rs/user-guide/getting-started/#filter"
   ]
  },
  {
   "cell_type": "code",
   "execution_count": 1,
   "id": "6d1cf6b0",
   "metadata": {},
   "outputs": [],
   "source": [
    "# [1] 설정/임포트\n",
    "import pandas as pd\n",
    "import numpy as np\n",
    "import polars as pl\n",
    "\n",
    "from sklearn.model_selection import train_test_split\n",
    "from sklearn.metrics import roc_auc_score, average_precision_score, confusion_matrix, classification_report\n",
    "\n",
    "import lightgbm as lgb\n",
    "\n",
    "SEED = 42\n",
    "SAMPLE_N = 200_000  # 전체 데이터 사용 시 None\n",
    "TEST_SIZE = 0.2"
   ]
  },
  {
   "cell_type": "code",
   "execution_count": 2,
   "id": "3fab1157",
   "metadata": {},
   "outputs": [],
   "source": [
    "df = pl.read_csv('./data/restaurant_20_25.csv', encoding='cp949')"
   ]
  },
  {
   "cell_type": "code",
   "execution_count": 3,
   "id": "2b9c921a",
   "metadata": {},
   "outputs": [],
   "source": [
    "# [2] 타깃 생성 + 누수/식별 컬럼 제거 + (옵션)샘플링 + pandas 변환\n",
    "# 사전: 노트북 앞 셀에서 df(polars.DataFrame)가 이미 로드되어 있다고 가정\n",
    "assert isinstance(df, pl.DataFrame), \"df(polars.DataFrame)가 먼저 로드되어 있어야 합니다.\"\n",
    "\n",
    "# 타깃: 폐업(1) vs 기타(0)\n",
    "df_s = df.with_columns([\n",
    "    (pl.col(\"영업상태명\") == \"폐업\").cast(pl.Int8).alias(\"target\")\n",
    "])\n",
    "\n",
    "# (옵션) 빠른 실험을 위한 층화 샘플\n",
    "if SAMPLE_N is not None and SAMPLE_N < df_s.height:\n",
    "    # 층화 샘플링을 위해 클래스별 비율 유지\n",
    "    frac_closed = df_s.filter(pl.col(\"target\") == 1).height / df_s.height\n",
    "    n_closed = int(SAMPLE_N * frac_closed)\n",
    "    n_open = SAMPLE_N - n_closed\n",
    "    df_closed = df_s.filter(pl.col(\"target\") == 1).sample(n=min(n_closed, df_s.filter(pl.col(\"target\")==1).height), seed=SEED)\n",
    "    df_open = df_s.filter(pl.col(\"target\") == 0).sample(n=min(n_open, df_s.filter(pl.col(\"target\")==0).height), seed=SEED)\n",
    "    df_s = pl.concat([df_closed, df_open]).sample(fraction=1.0, shuffle=True, seed=SEED)\n",
    "else:\n",
    "    # 전체 데이터 사용 시 셔플만\n",
    "    df_s = df_s.sample(fraction=1.0, shuffle=True, seed=SEED)\n",
    "\n",
    "# 누수/식별/고카디널리티 텍스트 컬럼 제거\n",
    "leak_cols = {\n",
    "    \"영업상태명\",\"영업상태구분코드\",\"상세영업상태코드\",\"상세영업상태명\",\n",
    "    \"폐업일자\",\"인허가취소일자\",\"휴업시작일자\",\"휴업종료일자\",\"재개업일자\"\n",
    "}\n",
    "id_text_cols = {\n",
    "    \"번호\",\"관리번호\",\"개방서비스명\",\"개방서비스아이디\",\"사업장명\",\n",
    "    \"소재지전화\",\"홈페이지\",\"소재지전체주소\",\"도로명전체주소\"\n",
    "}\n",
    "\n",
    "drop_cols = [c for c in df_s.columns if c in leak_cols or c in id_text_cols]\n",
    "\n",
    "use_cols = [c for c in df_s.columns if c not in drop_cols]  # target 포함됨\n",
    "df_s = df_s.select(use_cols)\n",
    "\n",
    "# pandas 변환(메모리 절약 옵션)\n",
    "# pandas 변환(파이애로우 확장 끄기: LightGBM가 싫어함)\n",
    "pdf = df_s.to_pandas()  # use_pyarrow_extension_array 제거\n",
    "y = pdf[\"target\"].astype(\"int8\").values\n",
    "X = pdf.drop(columns=[\"target\"])\n",
    "del pdf"
   ]
  },
  {
   "cell_type": "code",
   "execution_count": 4,
   "id": "6431edca",
   "metadata": {},
   "outputs": [],
   "source": [
    "# 모델에 바로 쓰지 않을 원시 문자열/날짜/공백 이름 컬럼 추가 드롭\n",
    "non_model_raw_cols = {\n",
    "    \"인허가일자\", \"최종수정시점\", \"데이터갱신일자\", \"데이터갱신구분\", \"전통업소지정번호\", \"\"\n",
    "}\n",
    "drop_more = [c for c in X.columns if c in non_model_raw_cols or (isinstance(c, str) and c.strip() == \"\")]\n",
    "if drop_more:\n",
    "    X = X.drop(columns=drop_more)"
   ]
  },
  {
   "cell_type": "code",
   "execution_count": 5,
   "id": "9ab6a363",
   "metadata": {},
   "outputs": [],
   "source": [
    "# 수치/범주 컬럼 식별\n",
    "num_candidates = {\n",
    "    \"소재지면적\",\"좌표정보x(epsg5174)\",\"좌표정보y(epsg5174)\",\"총직원수\",\"남성종사자수\",\"여성종사자수\",\n",
    "    \"본사직원수\",\"공장사무직직원수\",\"공장판매직직원수\",\"공장생산직직원수\",\"보증액\",\"월세액\",\"시설총규모\"\n",
    "}\n",
    "cat_candidates = {\n",
    "    \"업태구분명\",\"위생업태명\",\"영업장주변구분명\",\"등급구분명\",\"급수시설구분명\",\"건물소유구분명\",\n",
    "    \"다중이용업소여부\",\"전통업소주된음식\",\"개방자치단체코드\",\"도로명우편번호\",\"소재지우편번호\"\n",
    "}\n",
    "\n",
    "num_cols = [c for c in X.columns if c in num_candidates]\n",
    "cat_cols = [c for c in X.columns if c in cat_candidates]\n",
    "\n",
    "# 숫자: coercion → 결측 대치 → numpy float로 고정\n",
    "for c in num_cols:\n",
    "    X[c] = pd.to_numeric(X[c], errors=\"coerce\")\n",
    "for c in num_cols:\n",
    "    if c in X.columns:\n",
    "        med = X[c].median(skipna=True)\n",
    "        X[c] = X[c].fillna(med).astype(\"float32\")  # numpy dtype\n",
    "\n",
    "# 범주: 문자열 → 결측 \"미상\" → category로 고정\n",
    "for c in cat_cols:\n",
    "    X[c] = X[c].astype(\"string\").fillna(\"미상\").astype(\"category\")\n",
    "\n",
    "# 남은 object 계열 중 저카디널리티만 category로 흡수(선택)\n",
    "other_obj = [c for c in X.columns if c not in num_cols and c not in cat_cols and X[c].dtype == \"object\"]\n",
    "for c in other_obj:\n",
    "    if X[c].nunique(dropna=True) <= 50:\n",
    "        X[c] = X[c].astype(\"string\").fillna(\"미상\").astype(\"category\")\n",
    "        cat_cols.append(c)"
   ]
  },
  {
   "cell_type": "code",
   "execution_count": 6,
   "id": "5f0ee1d9",
   "metadata": {},
   "outputs": [],
   "source": [
    "# [3] 수치/범주 컬럼 식별 및 최소 전처리(결측 대치, dtype 캐스팅)\n",
    "# 후보 목록(교집합으로 안전 처리)\n",
    "num_candidates = {\n",
    "    \"소재지면적\",\"좌표정보x(epsg5174)\",\"좌표정보y(epsg5174)\",\"총직원수\",\"남성종사자수\",\"여성종사자수\",\n",
    "    \"본사직원수\",\"공장사무직직원수\",\"공장판매직직원수\",\"공장생산직직원수\",\"보증액\",\"월세액\",\"시설총규모\"\n",
    "}\n",
    "cat_candidates = {\n",
    "    \"업태구분명\",\"위생업태명\",\"영업장주변구분명\",\"등급구분명\",\"급수시설구분명\",\"건물소유구분명\",\"다중이용업소여부\",\"전통업소주된음식\",\n",
    "    \"개방자치단체코드\",\"도로명우편번호\",\"소재지우편번호\"  # 숫자처럼 보여도 범주로 취급\n",
    "}\n",
    "\n",
    "num_cols = [c for c in X.columns if c in num_candidates]\n",
    "cat_cols = [c for c in X.columns if c in cat_candidates]\n",
    "\n",
    "# 숫자 컬럼: 문자열 포함 가능 → 수치로 강제 변환\n",
    "for c in num_cols:\n",
    "    X[c] = pd.to_numeric(X[c], errors=\"coerce\")\n",
    "\n",
    "# 범주 컬럼: 결측 -> \"미상\", category 캐스팅\n",
    "for c in cat_cols:\n",
    "    X[c] = X[c].astype(\"string\").fillna(\"미상\").astype(\"category\")\n",
    "\n",
    "# 남은 object/string 컬럼 중 카디널리티 낮은 것만 범주로 흡수(선택)\n",
    "other_obj = [c for c in X.columns if c not in num_cols and c not in cat_cols and X[c].dtype == \"object\"]\n",
    "for c in other_obj:\n",
    "    if X[c].nunique(dropna=True) <= 50:\n",
    "        X[c] = X[c].astype(\"string\").fillna(\"미상\").astype(\"category\")\n",
    "        cat_cols.append(c)\n",
    "\n",
    "# 수치 결측: 중앙값 대치\n",
    "for c in num_cols:\n",
    "    if c in X.columns:\n",
    "        med = X[c].median(skipna=True)\n",
    "        X[c] = X[c].fillna(med)"
   ]
  },
  {
   "cell_type": "code",
   "execution_count": 7,
   "id": "a05100c8",
   "metadata": {},
   "outputs": [
    {
     "name": "stdout",
     "output_type": "stream",
     "text": [
      "Train: (160000, 24), Test: (40000, 24)\n",
      "y_train ratio (pos): 0.6915\n"
     ]
    }
   ],
   "source": [
    "# [4] 데이터 분할(Stratified)\n",
    "X_train, X_test, y_train, y_test = train_test_split(\n",
    "    X, y, test_size=TEST_SIZE, random_state=SEED, stratify=y\n",
    ")\n",
    "\n",
    "print(f\"Train: {X_train.shape}, Test: {X_test.shape}\")\n",
    "print(\"y_train ratio (pos):\", np.mean(y_train).round(4))"
   ]
  },
  {
   "cell_type": "code",
   "execution_count": 8,
   "id": "fb3a123c",
   "metadata": {},
   "outputs": [
    {
     "ename": "TypeError",
     "evalue": "LGBMClassifier.fit() got an unexpected keyword argument 'early_stopping_rounds'",
     "output_type": "error",
     "traceback": [
      "\u001b[1;31m---------------------------------------------------------------------------\u001b[0m",
      "\u001b[1;31mTypeError\u001b[0m                                 Traceback (most recent call last)",
      "Cell \u001b[1;32mIn[8], line 25\u001b[0m\n\u001b[0;32m     22\u001b[0m \u001b[38;5;28;01mif\u001b[39;00m \u001b[38;5;28mlen\u001b[39m(cat_cols) \u001b[38;5;241m>\u001b[39m \u001b[38;5;241m0\u001b[39m:\n\u001b[0;32m     23\u001b[0m     fit_kwargs[\u001b[38;5;124m\"\u001b[39m\u001b[38;5;124mcategorical_feature\u001b[39m\u001b[38;5;124m\"\u001b[39m] \u001b[38;5;241m=\u001b[39m cat_cols\n\u001b[1;32m---> 25\u001b[0m clf\u001b[38;5;241m.\u001b[39mfit(\u001b[38;5;241m*\u001b[39m\u001b[38;5;241m*\u001b[39mfit_kwargs)\n",
      "\u001b[1;31mTypeError\u001b[0m: LGBMClassifier.fit() got an unexpected keyword argument 'early_stopping_rounds'"
     ]
    }
   ],
   "source": [
    "# [5] LightGBM 학습(얼리 스토핑, 불균형 처리)\n",
    "clf = lgb.LGBMClassifier(\n",
    "    objective=\"binary\",\n",
    "    metric=\"auc\",\n",
    "    learning_rate=0.05,\n",
    "    n_estimators=2000,\n",
    "    num_leaves=31,\n",
    "    feature_fraction=0.8,\n",
    "    bagging_fraction=0.8,\n",
    "    bagging_freq=1,\n",
    "    class_weight=\"balanced\",\n",
    "    random_state=SEED,\n",
    "    n_jobs=-1\n",
    ")\n",
    "fit_kwargs = dict(\n",
    "    X=X_train, y=y_train,\n",
    "    eval_set=[(X_train, y_train), (X_test, y_test)],\n",
    "    eval_metric=\"auc\",\n",
    "    early_stopping_rounds=100,   # 주석 해제\n",
    "    verbose=100\n",
    ")\n",
    "if len(cat_cols) > 0:\n",
    "    fit_kwargs[\"categorical_feature\"] = cat_cols\n",
    "\n",
    "clf.fit(**fit_kwargs)"
   ]
  },
  {
   "cell_type": "code",
   "execution_count": null,
   "id": "ac5aa653",
   "metadata": {},
   "outputs": [],
   "source": [
    "# [6] 평가 및 중요도\n",
    "from sklearn.metrics import roc_curve, precision_recall_curve\n",
    "\n",
    "pred_proba = clf.predict_proba(X_test)[:, 1]\n",
    "pred_label = (pred_proba >= 0.5).astype(int)\n",
    "\n",
    "roc_auc = roc_auc_score(y_test, pred_proba)\n",
    "pr_auc = average_precision_score(y_test, pred_proba)\n",
    "\n",
    "print(f\"ROC-AUC: {roc_auc:.4f}\")\n",
    "print(f\"PR-AUC : {pr_auc:.4f}\")\n",
    "print(\"\\nConfusion Matrix (th=0.5):\")\n",
    "print(confusion_matrix(y_test, pred_label))\n",
    "print(\"\\nClassification Report (th=0.5):\")\n",
    "print(classification_report(y_test, pred_label, digits=4))\n",
    "\n",
    "# 상위 중요도 30개\n",
    "importances = clf.booster_.feature_importance(importance_type=\"gain\")\n",
    "feat_names = clf.booster_.feature_name()\n",
    "imp_series = pd.Series(importances, index=feat_names).sort_values(ascending=False)\n",
    "print(\"\\nTop-30 Feature Importances (gain):\")\n",
    "print(imp_series.head(30))"
   ]
  }
 ],
 "metadata": {
  "kernelspec": {
   "display_name": ".venv",
   "language": "python",
   "name": "python3"
  },
  "language_info": {
   "codemirror_mode": {
    "name": "ipython",
    "version": 3
   },
   "file_extension": ".py",
   "mimetype": "text/x-python",
   "name": "python",
   "nbconvert_exporter": "python",
   "pygments_lexer": "ipython3",
   "version": "3.10.11"
  }
 },
 "nbformat": 4,
 "nbformat_minor": 5
}
